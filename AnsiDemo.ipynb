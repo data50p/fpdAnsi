{
 "cells": [
  {
   "metadata": {},
   "cell_type": "markdown",
   "source": "Creating a color and print some strings\n"
  },
  {
   "metadata": {},
   "cell_type": "markdown",
   "source": ""
  },
  {
   "metadata": {
    "ExecuteTime": {
     "end_time": "2025-10-17T10:17:13.674408Z",
     "start_time": "2025-10-17T10:17:13.296743Z"
    }
   },
   "cell_type": "code",
   "source": [
    "import femtioprocent.ansi.Ansi\n",
    "import femtioprocent.ansi.Ansi.rgbBg\n",
    "import femtioprocent.ansi.Ansi.showL\n",
    "\n",
    "println(Ansi.csFg(10, 7, 3, 9, \"Hello world\"))\n",
    "println(Ansi.csFg(100, 70, 30, 99, \"Hello planet\"))\n",
    "\n",
    "val col100 = Ansi.RGB(10, 7, 6, 2)\n",
    "val col101 = col100.complement()\n",
    "\n",
    "println(Ansi.rgbFgBg(col100, col101, \" Hello all \"))\n",
    "\n",
    "// create a function which will emit color encoded strings\n",
    "val toCol100 = Ansi.rgbBg(col100)\n",
    "println(toCol100(\" Hello anyone \"))\n",
    "\n",
    "// create a color space of certain size and some color encoders\n",
    "val colSpace100 = Ansi.csBgRGB(100)\n",
    "val red = colSpace100(80, 20, 10)\n",
    "val orange = colSpace100(80, 70, 10)\n",
    "println(red(\"red background\"))\n",
    "println(\"Yellow text\".rgbBg(col100))\n",
    "\n",
    "val col300 = col100.complement()\n",
    "\n",
    "println(\"\\nSetting the saturation\")\n",
    "println(col300.showL())\n",
    "println(col300.toSaturation(0.42).showL())\n",
    "println(col300.toMaxSaturation().showL())\n",
    "\n",
    "println(\"\\nSetting the value intensity\")\n",
    "println(col300.toValue(0.5).showL())\n",
    "println(col300.toMaxValue().showL(f = {rgb -> \"blue component = ${rgb.b} of max ${rgb.cs-1}\"}))\n",
    "println(col300.rotL().showL(w = 60, f = {rgb -> \"The left rotated value have rgb values as: ${rgb.toLaconicStringRGB()}\"}))\n",
    "\n",
    "println(\"\\nGradients\")\n",
    "\n",
    "col300.gradient(8, col300.mixRB().toMaxSaturation().toValue(0.5)).forEach { rgb ->\n",
    "    println(rgb.showL())\n",
    "}\n",
    "println()\n",
    "\n"
   ],
   "outputs": [
    {
     "name": "stdout",
     "output_type": "stream",
     "text": [
      "\u001B[38;2;198;85;255mHello world\u001B[00m\n",
      "\u001B[38;2;180;77;255mHello planet\u001B[00m\n",
      "\u001B[38;2;198;170;57;48;2;57;85;198m Hello all \u001B[00m\n",
      "\u001B[48;2;198;170;57;38;5;0m Hello anyone \u001B[00m\n",
      "\u001B[48;2;206;52;26;38;5;231mred background\u001B[00m\n",
      "\u001B[48;2;198;170;57;38;5;0mYellow text\u001B[00m\n",
      "\n",
      "Setting the saturation\n",
      "\u001B[48;2;57;85;198;38;5;0mRGB(cs=10, r=2, g=3, b=7)         \u001B[00m\n",
      "\u001B[48;2;113;142;198;38;5;0mRGB(cs=10, r=4, g=5, b=7)         \u001B[00m\n",
      "\u001B[48;2;0;28;198;38;5;231mRGB(cs=10, r=0, g=1, b=7)         \u001B[00m\n",
      "\n",
      "Setting the value intensity\n",
      "\u001B[48;2;28;57;142;38;5;231mRGB(cs=10, r=1, g=2, b=5)         \u001B[00m\n",
      "\u001B[48;2;85;113;255;38;5;0mblue component = 9 of max 9       \u001B[00m\n",
      "\u001B[48;2;85;198;57;38;5;0mThe left rotated value have rgb values as: 3,7,2            \u001B[00m\n",
      "\n",
      "Gradients\n",
      "\u001B[48;2;57;85;198;38;5;0mRGB(cs=256, r=57, g=85, b=198)    \u001B[00m\n",
      "\u001B[48;2;47;149;190;38;5;0mRGB(cs=256, r=47, g=149, b=190)   \u001B[00m\n",
      "\u001B[48;2;37;182;149;38;5;0mRGB(cs=256, r=37, g=182, b=149)   \u001B[00m\n",
      "\u001B[48;2;29;174;66;38;5;231mRGB(cs=256, r=29, g=174, b=66)    \u001B[00m\n",
      "\u001B[48;2;58;166;20;38;5;231mRGB(cs=256, r=58, g=166, b=20)    \u001B[00m\n",
      "\u001B[48;2;125;158;13;38;5;0mRGB(cs=256, r=125, g=158, b=13)   \u001B[00m\n",
      "\u001B[48;2;150;109;6;38;5;231mRGB(cs=256, r=150, g=109, b=6)    \u001B[00m\n",
      "\u001B[48;2;142;28;0;38;5;231mRGB(cs=256, r=142, g=28, b=0)     \u001B[00m\n",
      "\n"
     ]
    }
   ],
   "execution_count": 1
  },
  {
   "metadata": {
    "ExecuteTime": {
     "end_time": "2025-10-17T09:13:38.617513Z",
     "start_time": "2025-10-17T09:13:38.614632Z"
    }
   },
   "cell_type": "code",
   "source": "",
   "outputs": [],
   "execution_count": null
  },
  {
   "metadata": {},
   "cell_type": "code",
   "outputs": [],
   "execution_count": null,
   "source": ""
  }
 ],
 "metadata": {
  "kernelspec": {
   "display_name": "Kotlin",
   "language": "kotlin",
   "name": "kotlin"
  },
  "language_info": {
   "name": "kotlin",
   "version": "2.2.20-Beta2",
   "mimetype": "text/x-kotlin",
   "file_extension": ".kt",
   "pygments_lexer": "kotlin",
   "codemirror_mode": "text/x-kotlin",
   "nbconvert_exporter": ""
  },
  "ktnbPluginMetadata": {
   "projectLibraries": false,
   "projectDependencies": [
    "ansi.main"
   ]
  }
 },
 "nbformat": 4,
 "nbformat_minor": 0
}
